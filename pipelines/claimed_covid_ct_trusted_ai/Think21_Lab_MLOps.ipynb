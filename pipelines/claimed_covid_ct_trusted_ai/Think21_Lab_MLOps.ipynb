{
 "cells": [
  {
   "cell_type": "code",
   "execution_count": 2,
   "id": "a31a3378",
   "metadata": {},
   "outputs": [
    {
     "name": "stdout",
     "output_type": "stream",
     "text": [
      "Cloning into 'examples'...\n",
      "remote: Enumerating objects: 444, done.\u001b[K\n",
      "remote: Counting objects: 100% (203/203), done.\u001b[K\n",
      "remote: Compressing objects: 100% (169/169), done.\u001b[K\n",
      "remote: Total 444 (delta 73), reused 124 (delta 24), pack-reused 241\u001b[K\n",
      "Receiving objects: 100% (444/444), 15.29 MiB | 3.80 MiB/s, done.\n",
      "Resolving deltas: 100% (156/156), done.\n",
      "Checking out files: 100% (178/178), done.\n",
      "Submodule 'pipelines/claimed_covid_ct_trusted_ai/component-library' (https://github.com/romeokienzler/component-library.git) registered for path 'pipelines/claimed_covid_ct_trusted_ai/component-library'\n",
      "Cloning into '/resources/examples/pipelines/claimed_covid_ct_trusted_ai/component-library'...\n",
      "remote: Enumerating objects: 244, done.        \n",
      "remote: Counting objects: 100% (225/225), done.        \n",
      "remote: Compressing objects: 100% (150/150), done.        \n",
      "remote: Total 244 (delta 138), reused 131 (delta 66), pack-reused 19        \n",
      "Receiving objects: 100% (244/244), 152.06 KiB | 428.00 KiB/s, done.\n",
      "Resolving deltas: 100% (139/139), done.\n",
      "Submodule path 'pipelines/claimed_covid_ct_trusted_ai/component-library': checked out 'c36ac154efaa60a3750bc7d441a41f33d780cb01'\n"
     ]
    }
   ],
   "source": [
    "!git clone --recursive https://github.com/romeokienzler/examples"
   ]
  },
  {
   "cell_type": "code",
   "execution_count": 8,
   "id": "9b4ba52a",
   "metadata": {},
   "outputs": [
    {
     "name": "stdout",
     "output_type": "stream",
     "text": [
      "M\tpipelines/claimed_covid_ct_trusted_ai/component-library\n",
      "Branch 'covid_trustedai_pipeline' set up to track remote branch 'covid_trustedai_pipeline' from 'origin'.\n",
      "Switched to a new branch 'covid_trustedai_pipeline'\n"
     ]
    }
   ],
   "source": [
    "!cd examples && git checkout covid_trustedai_pipeline\n"
   ]
  },
  {
   "cell_type": "code",
   "execution_count": null,
   "id": "052ee66c",
   "metadata": {},
   "outputs": [],
   "source": [
    "!cd examples/pipelines/claimed_covid_ct_trusted_ai/component-library && git checkout elyra1407"
   ]
  },
  {
   "cell_type": "code",
   "execution_count": null,
   "id": "9a90eef4",
   "metadata": {},
   "outputs": [],
   "source": []
  }
 ],
 "metadata": {
  "kernelspec": {
   "display_name": "Python",
   "language": "python",
   "name": "conda-env-python-py"
  },
  "language_info": {
   "codemirror_mode": {
    "name": "ipython",
    "version": 3
   },
   "file_extension": ".py",
   "mimetype": "text/x-python",
   "name": "python",
   "nbconvert_exporter": "python",
   "pygments_lexer": "ipython3",
   "version": "3.6.13"
  }
 },
 "nbformat": 4,
 "nbformat_minor": 5
}
