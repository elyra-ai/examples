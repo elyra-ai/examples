{
 "cells": [
  {
   "cell_type": "markdown",
   "id": "34369de6-b412-4e7c-8f68-4a65781545d1",
   "metadata": {
    "jp-MarkdownHeadingCollapsed": true,
    "tags": []
   },
   "source": [
    "## Copyright 2018-2022 Elyra Authors"
   ]
  },
  {
   "cell_type": "markdown",
   "id": "a3167354-5a83-4950-8e88-c4899d93737d",
   "metadata": {},
   "source": [
    "Licensed under the Apache License, Version 2.0 (the \"License\");\n",
    "you may not use this file except in compliance with the License.\n",
    "You may obtain a copy of the License at\n",
    "\n",
    "http://www.apache.org/licenses/LICENSE-2.0\n",
    "\n",
    "Unless required by applicable law or agreed to in writing, software\n",
    "distributed under the License is distributed on an \"AS IS\" BASIS,\n",
    "WITHOUT WARRANTIES OR CONDITIONS OF ANY KIND, either express or implied.\n",
    "See the License for the specific language governing permissions and\n",
    "limitations under the License."
   ]
  },
  {
   "cell_type": "markdown",
   "id": "d113346a-57c6-4d24-a056-5399f4143d8e",
   "metadata": {
    "tags": []
   },
   "source": [
    "## Add a header row\n",
    "\n",
    "This tutorial notebook adds a header row to a csv file, if one isn't included yet."
   ]
  },
  {
   "cell_type": "code",
   "execution_count": null,
   "id": "7a68dff7-cd67-4d8a-ae48-396734cf8d40",
   "metadata": {},
   "outputs": [],
   "source": [
    "# Install pandas package, if it isn't already installed\n",
    "# ! pip install pandas"
   ]
  },
  {
   "cell_type": "code",
   "execution_count": null,
   "id": "8ccef880-e690-4f0c-8827-d98141b6b6fa",
   "metadata": {},
   "outputs": [],
   "source": [
    "from csv import Sniffer\n",
    "import os\n",
    "from pathlib import Path\n",
    "\n",
    "import pandas as pd"
   ]
  },
  {
   "cell_type": "code",
   "execution_count": null,
   "id": "2ff485d7-e4e2-4e41-88dc-384fae5bc7b2",
   "metadata": {},
   "outputs": [],
   "source": [
    "data_filename_in = os.getenv(\"DATASET_FILENAME\", \"iris.data\")"
   ]
  },
  {
   "cell_type": "markdown",
   "id": "87e824a5-e237-40d2-8da3-4725d6d28b4c",
   "metadata": {},
   "source": [
    "Determine whether the dataset file already includes a header row"
   ]
  },
  {
   "cell_type": "code",
   "execution_count": null,
   "id": "c7549520-168e-431f-a756-0bf82c3a3465",
   "metadata": {},
   "outputs": [],
   "source": [
    "with open(data_filename_in) as file_in:\n",
    "    has_header_row = Sniffer().has_header(file_in.read(4096))"
   ]
  },
  {
   "cell_type": "markdown",
   "id": "45d1fc78-06bf-4d89-862c-3a4b7ff904ce",
   "metadata": {},
   "source": [
    "Add a header row, if none was detected."
   ]
  },
  {
   "cell_type": "code",
   "execution_count": null,
   "id": "73f5d089-ada6-4f73-8f2b-bc34a66ee078",
   "metadata": {},
   "outputs": [],
   "source": [
    "if has_header_row:\n",
    "    iris_df = pd.read_csv(data_filename_in)\n",
    "    # headers = list(iris_df.columns)\n",
    "else:\n",
    "    headers = [\"sepal length\", \"sepal_width\", \"petal_length\", \"petal_width\", \"class\"]\n",
    "    iris_df = pd.read_csv(data_filename_in, names=headers)"
   ]
  },
  {
   "cell_type": "markdown",
   "id": "54ecc313-2c10-4f85-a5fa-6608050e8f03",
   "metadata": {},
   "source": [
    "Save the dataset file, which now includes a header row"
   ]
  },
  {
   "cell_type": "code",
   "execution_count": null,
   "id": "09aa38de-7776-439b-a352-daef24e484ff",
   "metadata": {},
   "outputs": [],
   "source": [
    "data_filename_out = str(Path(data_filename_in).with_suffix(\".csv\"))\n",
    "iris_df.to_csv(data_filename_out, index=False)"
   ]
  },
  {
   "cell_type": "code",
   "execution_count": null,
   "id": "76cb6636-0527-4ad4-bf9b-88f854e2526e",
   "metadata": {},
   "outputs": [],
   "source": [
    "print(f\"Saved dataset file as '{data_filename_out}'.\")"
   ]
  }
 ],
 "metadata": {
  "kernelspec": {
   "display_name": "Python 3 (ipykernel)",
   "language": "python",
   "name": "python3"
  },
  "language_info": {
   "codemirror_mode": {
    "name": "ipython",
    "version": 3
   },
   "file_extension": ".py",
   "mimetype": "text/x-python",
   "name": "python",
   "nbconvert_exporter": "python",
   "pygments_lexer": "ipython3",
   "version": "3.7.12"
  }
 },
 "nbformat": 4,
 "nbformat_minor": 5
}
