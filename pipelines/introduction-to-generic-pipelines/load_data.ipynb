{
 "cells": [
  {
   "cell_type": "markdown",
   "id": "42e8bbd2-ee3f-4e29-86a1-58fa9a8b313c",
   "metadata": {
    "jp-MarkdownHeadingCollapsed": true,
    "tags": []
   },
   "source": [
    "## Copyright 2018-2022 Elyra Authors"
   ]
  },
  {
   "cell_type": "markdown",
   "id": "5d45a17f-02f6-419d-b61c-6facdb9e30ce",
   "metadata": {},
   "source": [
    "Licensed under the Apache License, Version 2.0 (the \"License\");\n",
    "you may not use this file except in compliance with the License.\n",
    "You may obtain a copy of the License at\n",
    "\n",
    "http://www.apache.org/licenses/LICENSE-2.0\n",
    "\n",
    "Unless required by applicable law or agreed to in writing, software\n",
    "distributed under the License is distributed on an \"AS IS\" BASIS,\n",
    "WITHOUT WARRANTIES OR CONDITIONS OF ANY KIND, either express or implied.\n",
    "See the License for the specific language governing permissions and\n",
    "limitations under the License."
   ]
  },
  {
   "cell_type": "markdown",
   "id": "c2e2f18d-98bf-4e45-b4b0-4272ac411fdc",
   "metadata": {
    "tags": []
   },
   "source": [
    "## Download the data set\n",
    "\n",
    "This tutorial notebook downloads the Iris dataset from a public web resource. The download URL is configurable\n",
    "using environment variable `IRIS_DATASET_URL`."
   ]
  },
  {
   "cell_type": "code",
   "execution_count": null,
   "id": "6e5ecdc6-cb07-47ee-922d-a8a9d4b2b934",
   "metadata": {},
   "outputs": [],
   "source": [
    "import os\n",
    "import requests"
   ]
  },
  {
   "cell_type": "markdown",
   "id": "505efd47-9f40-444b-a6d7-c47b24ce0dcb",
   "metadata": {},
   "source": [
    "Configure dataset download URL. Use custom location, if one was specified, or the default. A valid custom location is \"https://archive.ics.uci.edu/ml/machine-learning-databases/iris/iris.data\""
   ]
  },
  {
   "cell_type": "code",
   "execution_count": null,
   "id": "b32246eb-ad22-4737-b0d4-2e0aaad0daca",
   "metadata": {},
   "outputs": [],
   "source": [
    "data_file_url = os.getenv(\n",
    "    \"DATASET_URL\",\n",
    "    \"https://raw.githubusercontent.com/elyra-ai/examples/\"\n",
    "    \"main/pipelines/introduction-to-generic-pipelines/data/iris.data\",\n",
    ")"
   ]
  },
  {
   "cell_type": "markdown",
   "id": "79365404-3bb1-4655-afdc-afc6800981b3",
   "metadata": {},
   "source": [
    "Download the dataset"
   ]
  },
  {
   "cell_type": "code",
   "execution_count": null,
   "id": "c7ca0a32-2a99-4d63-8ba0-b93e8a8507c0",
   "metadata": {},
   "outputs": [],
   "source": [
    "print(f\"Downloading dataset file {data_file_url} ...\")\n",
    "r = requests.get(data_file_url)\n",
    "if r.status_code != 200:\n",
    "    raise RuntimeError(\n",
    "        f\"Error downloading {data_file_url}: HTTP status code {r.status_code}\"\n",
    "    )"
   ]
  },
  {
   "cell_type": "markdown",
   "id": "c0f9750a-b4c8-4679-b252-dc9029173389",
   "metadata": {},
   "source": [
    "Save the dataset"
   ]
  },
  {
   "cell_type": "code",
   "execution_count": null,
   "id": "f291655a-f784-4a78-91b4-3bb95bad156b",
   "metadata": {},
   "outputs": [],
   "source": [
    "data_filename = \"iris.data\"\n",
    "with open(data_filename, \"w\") as downloaded_file:\n",
    "    downloaded_file.write(r.text)"
   ]
  },
  {
   "cell_type": "code",
   "execution_count": null,
   "id": "b5ae42ae-cf3a-4aee-bee7-cdea88e59e72",
   "metadata": {},
   "outputs": [],
   "source": [
    "print(f\"Saved dataset file as '{data_filename}'.\")"
   ]
  }
 ],
 "metadata": {
  "kernelspec": {
   "display_name": "Python 3 (ipykernel)",
   "language": "python",
   "name": "python3"
  },
  "language_info": {
   "codemirror_mode": {
    "name": "ipython",
    "version": 3
   },
   "file_extension": ".py",
   "mimetype": "text/x-python",
   "name": "python",
   "nbconvert_exporter": "python",
   "pygments_lexer": "ipython3",
   "version": "3.7.12"
  }
 },
 "nbformat": 4,
 "nbformat_minor": 5
}
