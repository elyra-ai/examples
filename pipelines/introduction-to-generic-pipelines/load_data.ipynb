{
 "cells": [
  {
   "cell_type": "markdown",
   "id": "10e2d643",
   "metadata": {
    "papermill": {
     "duration": 0.008783,
     "end_time": "2021-07-14T23:45:30.348760",
     "exception": false,
     "start_time": "2021-07-14T23:45:30.339977",
     "status": "completed"
    },
    "tags": []
   },
   "source": [
    "## Download a data set\n",
    "\n",
    "This notebook downloads a data set file from a public location. If the data set file is a compressed archive it will be decompressed. Upon completion the raw data set files  are located in the `data\\` directory.\n",
    "\n",
    "This notebook requires the following environment variables:\n",
    " -  `DATASET_URL` Public data set URL, e.g. `https://dax-cdn.cdn.appdomain.cloud/dax-fashion-mnist/1.0.2/fashion-mnist.tar.gz`"
   ]
  },
  {
   "cell_type": "code",
   "execution_count": null,
   "id": "8a2f3aab",
   "metadata": {
    "papermill": {
     "duration": 0.070832,
     "end_time": "2021-07-14T23:45:30.427472",
     "exception": false,
     "start_time": "2021-07-14T23:45:30.356640",
     "status": "completed"
    },
    "tags": []
   },
   "outputs": [],
   "source": [
    "import glob\n",
    "import json\n",
    "import os\n",
    "from pathlib import Path\n",
    "import requests\n",
    "import tarfile\n",
    "from urllib.parse import urlparse"
   ]
  },
  {
   "cell_type": "markdown",
   "id": "0efbe465",
   "metadata": {
    "papermill": {
     "duration": 0.005183,
     "end_time": "2021-07-14T23:45:30.437749",
     "exception": false,
     "start_time": "2021-07-14T23:45:30.432566",
     "status": "completed"
    },
    "tags": []
   },
   "source": [
    "Verify that the `DATASET_URL` environment variable is set. If it is not set, a RuntimeError is raised."
   ]
  },
  {
   "cell_type": "code",
   "execution_count": null,
   "id": "a4ffffc4",
   "metadata": {
    "papermill": {
     "duration": 0.009866,
     "end_time": "2021-07-14T23:45:30.452696",
     "exception": false,
     "start_time": "2021-07-14T23:45:30.442830",
     "status": "completed"
    },
    "tags": []
   },
   "outputs": [],
   "source": [
    "data_file = os.getenv('DATASET_URL',\n",
    "                      'https://dax-cdn.cdn.appdomain.cloud/'\n",
    "                      'dax-noaa-weather-data-jfk-airport/1.1.4/'\n",
    "                      'noaa-weather-data-jfk-airport.tar.gz')"
   ]
  },
  {
   "cell_type": "markdown",
   "id": "85cfa27c",
   "metadata": {
    "papermill": {
     "duration": 0.004601,
     "end_time": "2021-07-14T23:45:30.462495",
     "exception": false,
     "start_time": "2021-07-14T23:45:30.457894",
     "status": "completed"
    },
    "tags": []
   },
   "source": [
    "Download the data set from the location specified in `dataset_url`, extract it (if it is compressed) and store it in the directory identified by `data_dir_name`."
   ]
  },
  {
   "cell_type": "code",
   "execution_count": null,
   "id": "3aabd20a",
   "metadata": {
    "papermill": {
     "duration": 1.085636,
     "end_time": "2021-07-14T23:45:31.552664",
     "exception": false,
     "start_time": "2021-07-14T23:45:30.467028",
     "status": "completed"
    },
    "tags": []
   },
   "outputs": [],
   "source": [
    "data_dir_name = 'data'\n",
    "\n",
    "print('Downloading data file {} ...'.format(data_file))\n",
    "r = requests.get(data_file)\n",
    "if r.status_code != 200:\n",
    "    raise RuntimeError('Could not fetch {}: HTTP status code {}'\n",
    "                       .format(data_file, r.status_code))\n",
    "else:\n",
    "    # extract data set file name from URL\n",
    "    data_file_name = Path((urlparse(data_file).path)).name\n",
    "    # create the directory where the downloaded file will be stored\n",
    "    data_dir = Path(data_dir_name)\n",
    "    data_dir.mkdir(parents=True, exist_ok=True)\n",
    "    downloaded_data_file = data_dir / data_file_name\n",
    "\n",
    "    print('Saving downloaded file \"{}\" as ...'.format(data_file_name))\n",
    "    with open(downloaded_data_file, 'wb') as downloaded_file:\n",
    "        downloaded_file.write(r.content)\n",
    "\n",
    "    if r.headers['content-type'] == 'application/x-tar':\n",
    "        print('Extracting downloaded file in directory \"{}\" ...'\n",
    "              .format(data_dir))\n",
    "        with tarfile.open(downloaded_data_file, 'r') as tar:\n",
    "            tar.extractall(data_dir)\n",
    "        print('Removing downloaded file ...')\n",
    "        downloaded_data_file.unlink()"
   ]
  },
  {
   "cell_type": "markdown",
   "id": "c0edca62",
   "metadata": {
    "papermill": {
     "duration": 0.005151,
     "end_time": "2021-07-14T23:45:31.564073",
     "exception": false,
     "start_time": "2021-07-14T23:45:31.558922",
     "status": "completed"
    },
    "tags": []
   },
   "source": [
    "Display list of extracted data files"
   ]
  },
  {
   "cell_type": "code",
   "execution_count": null,
   "id": "d7d542ea",
   "metadata": {
    "papermill": {
     "duration": 0.011331,
     "end_time": "2021-07-14T23:45:31.580464",
     "exception": false,
     "start_time": "2021-07-14T23:45:31.569133",
     "status": "completed"
    },
    "tags": []
   },
   "outputs": [],
   "source": [
    "for entry in glob.glob(data_dir_name + \"/**/*\", recursive=True):\n",
    "    print(entry)"
   ]
  },
  {
   "cell_type": "markdown",
   "id": "f9c7cb8d",
   "metadata": {
    "papermill": {
     "duration": 0.005349,
     "end_time": "2021-07-14T23:45:31.591143",
     "exception": false,
     "start_time": "2021-07-14T23:45:31.585794",
     "status": "completed"
    },
    "tags": []
   },
   "source": [
    "A notebook can produce output that is visualized in the Kubeflow Pipelines UI. For illustrative purposes we log the data set download URL. Refer to the [documentation](https://elyra.readthedocs.io/en/latest/recipes/visualizing-output-in-the-kfp-ui.html) to learn about supported visualization types and additional examples."
   ]
  },
  {
   "cell_type": "code",
   "execution_count": null,
   "id": "e0f2fcde",
   "metadata": {
    "papermill": {
     "duration": 0.011146,
     "end_time": "2021-07-14T23:45:31.607518",
     "exception": false,
     "start_time": "2021-07-14T23:45:31.596372",
     "status": "completed"
    },
    "tags": []
   },
   "outputs": [],
   "source": [
    "if os.environ.get('ELYRA_RUNTIME_ENV') == 'kfp':\n",
    "    # For information about Elyra environment variables refer to\n",
    "    # https://elyra.readthedocs.io/en/stable/user_guide/best-practices-file-based-nodes.html#proprietary-environment-variables # noqa: E501\n",
    "\n",
    "    metadata = {\n",
    "        'outputs': [\n",
    "            {\n",
    "                'storage': 'inline',\n",
    "                'source': '# Data archive URL: {}'\n",
    "                          .format(data_file),\n",
    "                'type': 'markdown',\n",
    "            }]\n",
    "    }\n",
    "\n",
    "    with open('mlpipeline-ui-metadata.json', 'w') as f:\n",
    "        json.dump(metadata, f)"
   ]
  }
 ],
 "metadata": {
  "kernelspec": {
   "display_name": "Python 3",
   "language": "python",
   "name": "python3"
  },
  "language_info": {
   "codemirror_mode": {
    "name": "ipython",
    "version": 3
   },
   "file_extension": ".py",
   "mimetype": "text/x-python",
   "name": "python",
   "nbconvert_exporter": "python",
   "pygments_lexer": "ipython3",
   "version": "3.7.10"
  },
  "papermill": {
   "duration": 2.43342,
   "end_time": "2021-07-14T23:45:31.825444",
   "environment_variables": {},
   "exception": null,
   "input_path": "/Users/patti/elyra_dev/update-examples/workspace/examples/pipelines/introduction-to-generic-pipelines/load_data.ipynb",
   "output_path": "/Users/patti/elyra_dev/update-examples/workspace/examples/pipelines/introduction-to-generic-pipelines/load_data.ipynb",
   "parameters": {},
   "start_time": "2021-07-14T23:45:29.392024",
   "version": "2.1.1"
  }
 },
 "nbformat": 4,
 "nbformat_minor": 5
}
