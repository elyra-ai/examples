{
 "cells": [
  {
   "cell_type": "code",
   "execution_count": null,
   "id": "985ca2ff-c0e9-4f80-bb3f-603dc71279b5",
   "metadata": {},
   "outputs": [],
   "source": [
    "print('Hello from the notebook')"
   ]
  }
 ],
 "metadata": {
  "kernelspec": {
   "display_name": "Python 3 (ipykernel)",
   "language": "python",
   "name": "python3"
  },
  "language_info": {
   "codemirror_mode": {
    "name": "ipython",
    "version": 3
   },
   "file_extension": ".py",
   "mimetype": "text/x-python",
   "name": "python",
   "nbconvert_exporter": "python",
   "pygments_lexer": "ipython3",
   "version": "3.7.10"
  }
 },
 "nbformat": 4,
 "nbformat_minor": 5
}
