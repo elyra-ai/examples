{
 "cells": [
  {
   "cell_type": "markdown",
   "id": "698c1153-b00b-4149-bb3d-3d15b3efbe4a",
   "metadata": {},
   "source": [
    "This example notebook reads a CSV file, manipulates the data, and stores the updated data. It is assumed that the second column contains a numeric value."
   ]
  },
  {
   "cell_type": "code",
   "execution_count": null,
   "id": "cfc85233-db10-4145-91c2-e9077ac0e969",
   "metadata": {},
   "outputs": [],
   "source": [
    "import os\n",
    "import pandas as pd\n",
    "from urllib.parse import urlparse"
   ]
  },
  {
   "cell_type": "code",
   "execution_count": null,
   "id": "6e60eac5-fd86-47cd-bd07-abdd3023d9d0",
   "metadata": {
    "tags": [
     "parameters"
    ]
   },
   "outputs": [],
   "source": [
    "# this cell is tagged with \"parameters\"\n",
    "# Dummy data URL\n",
    "data_url = 'https://raw.githubusercontent.com/elyra-ai/examples/master/pipelines/kubeflow_pipelines_component_examples/run_notebook_component/data/data-2.csv'\n",
    "multiplier = 1\n",
    "INPUT_DATA_PATH = None\n",
    "OUTPUT_DATA_PATH = None"
   ]
  },
  {
   "cell_type": "markdown",
   "id": "824ee8ad-4bd4-47ef-8c4c-c141c9df1606",
   "metadata": {},
   "source": [
    "Download the [assumed] CSV file from data_url, multiply the second column (which is assumed to be a numeric) with the value of variable multiplier. Store the modified DataFrame under a different filename."
   ]
  },
  {
   "cell_type": "code",
   "execution_count": null,
   "id": "bf9fdd36-4ef9-4ae9-9762-43c789626104",
   "metadata": {},
   "outputs": [],
   "source": [
    "print(f'Downloading {data_url} ...')\n",
    "\n",
    "df = pd.read_csv(data_url, header=None)\n",
    "print('Data preview:')\n",
    "print(df.head())\n",
    "\n",
    "print('Manipulating data frame ...')\n",
    "df[1] = df[1] * multiplier\n",
    "\n",
    "\n",
    "if OUTPUT_DATA_PATH is not None:\n",
    "    parsed_url = urlparse(data_url)\n",
    "    filename = os.path.splitext(os.path.basename(parsed_url.path))[0]\n",
    "    extension = os.path.splitext(os.path.basename(parsed_url.path))[1]\n",
    "    output_filename = os.path.join(OUTPUT_DATA_PATH, f'{filename}-out{extension}')\n",
    "    print(f'Saving modified DataFrame as {output_filename} ...')\n",
    "    df.to_csv(output_filename, index=False, header=False)"
   ]
  },
  {
   "cell_type": "markdown",
   "id": "61048214-f946-4c7c-a038-c5e3d6567b51",
   "metadata": {},
   "source": [
    "Print the content of INPUT_DATA_PATH, if one was provided"
   ]
  },
  {
   "cell_type": "code",
   "execution_count": null,
   "id": "a45f4fe7-eccc-44fe-952d-8524fa205b58",
   "metadata": {},
   "outputs": [],
   "source": [
    "if INPUT_DATA_PATH is not None:\n",
    "    print(f'Input data is stored in {INPUT_DATA_PATH}')\n",
    "    with open(INPUT_DATA_PATH, 'r') as input_data:\n",
    "        data = input_data.read()\n",
    "        print('Input data:')\n",
    "        print(data)"
   ]
  }
 ],
 "metadata": {
  "kernelspec": {
   "display_name": "Python 3",
   "language": "python",
   "name": "python3"
  },
  "language_info": {
   "codemirror_mode": {
    "name": "ipython",
    "version": 3
   },
   "file_extension": ".py",
   "mimetype": "text/x-python",
   "name": "python",
   "nbconvert_exporter": "python",
   "pygments_lexer": "ipython3",
   "version": "3.7.10"
  }
 },
 "nbformat": 4,
 "nbformat_minor": 5
}
