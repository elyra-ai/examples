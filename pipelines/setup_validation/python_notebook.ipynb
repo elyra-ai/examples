{
 "cells": [
  {
   "cell_type": "markdown",
   "id": "33fb9010-4d65-4a5a-8c64-67611fd202fe",
   "metadata": {},
   "source": [
    "This notebook is only used for test purposes. It should run as is in any environment that has a Python kernel installed."
   ]
  },
  {
   "cell_type": "code",
   "execution_count": null,
   "id": "8a98f6cc-2103-4d82-97fc-6534d68b22bb",
   "metadata": {},
   "outputs": [],
   "source": [
    "print('Hello from Python notebook')"
   ]
  }
 ],
 "metadata": {
  "kernelspec": {
   "display_name": "Python 3",
   "language": "python",
   "name": "python3"
  },
  "language_info": {
   "codemirror_mode": {
    "name": "ipython",
    "version": 3
   },
   "file_extension": ".py",
   "mimetype": "text/x-python",
   "name": "python",
   "nbconvert_exporter": "python",
   "pygments_lexer": "ipython3",
   "version": "3.7.10"
  }
 },
 "nbformat": 4,
 "nbformat_minor": 5
}
